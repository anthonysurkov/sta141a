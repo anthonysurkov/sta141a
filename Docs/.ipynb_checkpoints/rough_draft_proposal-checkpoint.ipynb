{
 "cells": [
  {
   "cell_type": "markdown",
   "id": "93326036-9303-4104-90f1-8e50a847fa59",
   "metadata": {},
   "source": [
    "# Project Proposal\n",
    "#### Anthony Surkov, Jan 22nd, STA 141A"
   ]
  },
  {
   "cell_type": "markdown",
   "id": "f2d50b01-79c4-419e-aa2b-184000b0cde6",
   "metadata": {},
   "source": [
    "---"
   ]
  },
  {
   "cell_type": "markdown",
   "id": "34931707-a042-4ceb-8424-5a265c023c4b",
   "metadata": {},
   "source": [
    "Reading through the paper responsible for our dataset, it seems to me that mouse response can probably be modeled using a transformer.<br>\n",
    "\n",
    "I initially thought of neurons as a Markovian process. It's a tempting assumption: on the cellular level, the state of each neuron only depends on the one prior to it. Actions technically only happen because the neurons at the end of the chain instruct them to. <br>\n",
    "However, this is too simplistic of a model for our available data. I strongly doubt that mouse action only depends on the final time bins (though I will confirm during exploratory data analysis). This is because the neurons we have are not specific to the end of the neural chain. We have a spattering of Instead, it seems more likely that we can think of mouse action as being dependent on each component of a chain of events, with each component influencing the next one:"
   ]
  },
  {
   "cell_type": "markdown",
   "id": "16c68a24-7d24-45d2-99fc-c08e17a2d7fc",
   "metadata": {},
   "source": [
    "<div>\n",
    "    <img src=\"img/terrible_graphic.png\"; width=\"500\">\n",
    "</div>"
   ]
  },
  {
   "cell_type": "markdown",
   "id": "48d41e8e-a649-4425-8fa5-119c123c9dd0",
   "metadata": {},
   "source": [
    "*(please excuse my terrible graphic)*"
   ]
  },
  {
   "cell_type": "markdown",
   "id": "abe7267f-e5a5-4f59-be8f-b123ec7f97bb",
   "metadata": {},
   "source": [
    "This model broadly seems to be in line with the researchers' hypotheses and observations. They believe choice to be distributed across broad regions of the brain, they find that neurons broadly correlating with action influence successful choice, and they note that activity propagates across the brain to choice neurons then back to visual centers."
   ]
  },
  {
   "cell_type": "markdown",
   "id": "7d5b9052-97f6-4fa1-8f88-9f0b71d1b3c9",
   "metadata": {},
   "source": [
    "With respect to execution, though I am currently hazy on the specifics, I know I will need to build a custom transformer architecture. \n",
    "I will probably do this from the ground-up using PyTorch. This will involve learning the library, but I am already broadly comfortable with Python, so it should not be unreachable for this project. <br>\n",
    "I will need to see how consistent the data is; if variation across mice or trials for the same binary feedback is broad, it may be difficult to train a model with good specificity. I will need to study how best to handle messy data in the context of transformers. Most likely, I can use exploratory data analysis to identify major sources of variation, helping identify which parameters to keep for the transformer. <br>\n",
    "I will need to identify an appropriate tokenization scheme for our neural data, which seems like what Part 2 of our course project is precisely applicable to. This exploration will likely involve background studies on transformers, a literature review for current ideas in modeling neural data, and experimentation to determine a good schema. I will probably start simple (time bins as tokens?) and see if it's sufficiently explanatory, adding on as necessary. <br>\n",
    "Finally, I will need to create a training and validation set from our neural data. I am somewhat limited by the amount of data we have, so I will have to research good minima for both. After training, I will evaluate model power, overfit, etc. based on the validation set. <br>\n",
    "\n",
    "Overfitting is a serious concern with the size of our dataset, so careful architectural design is key. A lot of my time will be spent understanding practical transformer use from modern examples. <br>\n"
   ]
  },
  {
   "cell_type": "markdown",
   "id": "95d32904-0e12-4f9c-ad82-68f7393cb949",
   "metadata": {},
   "source": [
    "Thank you for taking the time to evaluate my proposal. Please let me know if there are additional considerations to include or problems with my plan. I look forward to hearing your feedback."
   ]
  }
 ],
 "metadata": {
  "kernelspec": {
   "display_name": "Python 3 (ipykernel)",
   "language": "python",
   "name": "python3"
  },
  "language_info": {
   "codemirror_mode": {
    "name": "ipython",
    "version": 3
   },
   "file_extension": ".py",
   "mimetype": "text/x-python",
   "name": "python",
   "nbconvert_exporter": "python",
   "pygments_lexer": "ipython3",
   "version": "3.11.4"
  }
 },
 "nbformat": 4,
 "nbformat_minor": 5
}
